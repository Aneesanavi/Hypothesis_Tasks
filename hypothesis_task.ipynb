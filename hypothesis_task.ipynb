{
 "cells": [
  {
   "cell_type": "markdown",
   "id": "4b12b0a3",
   "metadata": {},
   "source": [
    "1.Suppose a child psychologist says that the average time that working mothers spend talking to their children is at-least\n",
    "11 minutes per day. You want to test\n",
    "You conduct a random sample of 1000 working mothers and find they spend an average of 11.5 minutes per day talking with \n",
    "their children. Assume prior research suggests the population standard deviation is 2.3 minutes.\n",
    "Conduct test with a level of significance of alpha=0.05\n",
    "\n",
    "solution:\n",
    "\n",
    "## State the null hypothesis (H0) and the alternative hypothesis (Ha):\n",
    "\n",
    " Null Hypothesis (H0): The average time working mothers spend talking to their children is 11 minutes or more per day .\n",
    " Alternative Hypothesis (Ha): The average time working mothers spend talking to their children is less than 11 minutes per day .\n",
    " \n",
    " \n",
    "## Select the Significance level (alpha): \n",
    "\n",
    " Given (alpha) = 0.05, this is the probability of making a Type I error (rejecting the null hypothesis when it's true).\n",
    " \n",
    " \n",
    "##  Collect and Summarize Data\n",
    "\n",
    " Given data:\n",
    "\n",
    " Sample mean,x = 11.5 minutes\n",
    "\n",
    " Population standard deviation = 2.3 minutes\n",
    "\n",
    " Sample size = 1000\n",
    " \n",
    "## Calculate the test statistic (z):\n",
    " "
   ]
  },
  {
   "cell_type": "code",
   "execution_count": 2,
   "id": "85d6b516",
   "metadata": {},
   "outputs": [
    {
     "data": {
      "text/plain": [
       "0.2173913043478261"
      ]
     },
     "execution_count": 2,
     "metadata": {},
     "output_type": "execute_result"
    }
   ],
   "source": [
    " mu =11\n",
    " x =11.5\n",
    " std =2.3\n",
    " z= (x- mu)/ std\n",
    " z"
   ]
  },
  {
   "cell_type": "markdown",
   "id": "11cda9a3",
   "metadata": {},
   "source": [
    "## Determine the critical value:\n",
    "\n",
    "  For a one-tailed test at a 0.05 level of significance, the critical z-value is approximately 1.645.\n",
    " "
   ]
  },
  {
   "cell_type": "markdown",
   "id": "5f78074d",
   "metadata": {},
   "source": [
    "## Make a decision:\n",
    "\n",
    " Compare the calculated test statistic (z = 0.2174) to the critical z-value (1.645).\n",
    " Since the calculated test statistic is less than the critical z-value, you fail to reject the null  hypothesis."
   ]
  },
  {
   "cell_type": "markdown",
   "id": "bf95616d",
   "metadata": {},
   "source": [
    "## Draw a conclusion:\n",
    "\n",
    " Based on the sample data and the one-tailed z-test at a significance level of alpha = 0.05, there is insufficient evidence to  conclude that the average time working mothers spend talking to their children is less than 11 minutes per day. The  psychologist's claim is not supported by the sample data.\n",
    " The conclusion is that the average time spent talking to children, based on the sample data, is not significantly less than 11 minutes per day.\n",
    " "
   ]
  }
 ],
 "metadata": {
  "kernelspec": {
   "display_name": "Python 3 (ipykernel)",
   "language": "python",
   "name": "python3"
  },
  "language_info": {
   "codemirror_mode": {
    "name": "ipython",
    "version": 3
   },
   "file_extension": ".py",
   "mimetype": "text/x-python",
   "name": "python",
   "nbconvert_exporter": "python",
   "pygments_lexer": "ipython3",
   "version": "3.11.2"
  }
 },
 "nbformat": 4,
 "nbformat_minor": 5
}
