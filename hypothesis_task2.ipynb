{
 "cells": [
  {
   "cell_type": "markdown",
   "id": "a5c18bd3",
   "metadata": {},
   "source": [
    "2.A coffee shop claims that their average wait time for customers is less than 5 minutes.\n",
    "To test this claim, a sample of 40 customers is taken, and their wait times are recorded. \n",
    "The sample mean wait time is found to be 4.6 minutes with a standard deviation of 0.8 minutes. \n",
    "Perform a hypothesis test at a significance level of 0.05 and determine whether there is enough\n",
    "evidence to support the coffee shop's claim.\n",
    "Perform the hypothesis testing using correct test statistics and appropriate critical value\n"
   ]
  },
  {
   "cell_type": "markdown",
   "id": "6d8fcfa6",
   "metadata": {},
   "source": [
    "### solution\n",
    "To test the coffee shop's claim that their average wait time for customers is less than 5 minutes, we will perform a one _ tailed  z-test. Here are the steps to conduct the hypothesis test at a significance level of 0.05:\n",
    "\n",
    "## Step 1: Set up the hypotheses.\n",
    "\n",
    " Null Hypothesis (H0): The average wait time for customers at the coffee shop is less than 5 min.\n",
    "        \n",
    " Alternative Hypothesis (Ha): The average wait time for customers at the coffee shop is more than 5 minutes.\n",
    " \n",
    "## Step 2: Set the Significance Level\n",
    " The significance level is given as 0.05.\n",
    "\n",
    " Confidence interval =95%\n",
    "\n",
    "## Step 3: Collect and Summarize Data\n",
    "Given data:\n",
    "\n",
    "Sample mean = 4.6 minutes\n",
    "\n",
    "Population standard deviation = 0.8 minutes\n",
    "\n",
    "Sample size = 40\n",
    "\n",
    "## Step 4: Calculate the Test Statistic \n"
   ]
  },
  {
   "cell_type": "code",
   "execution_count": 1,
   "id": "a9f24728",
   "metadata": {},
   "outputs": [
    {
     "data": {
      "text/plain": [
       "-0.5000000000000004"
      ]
     },
     "execution_count": 1,
     "metadata": {},
     "output_type": "execute_result"
    }
   ],
   "source": [
    "mu =5\n",
    "x =4.6\n",
    "std =0.8\n",
    "z= (x- mu)/ std\n",
    "z"
   ]
  },
  {
   "cell_type": "markdown",
   "id": "60ce8985",
   "metadata": {},
   "source": [
    "## Step 5: Determine the critical value.\n",
    "\n",
    " Since this is a one-tailed test (testing if the average is less than 5 minutes), \n",
    " find the critical z-value for alpha = 0.05 in the left tail of the standard normal distribution. \n",
    " the critical z-value for alpha = 0.05 is approximately 1.645.\n",
    "\n",
    "\n",
    "\n",
    "\n",
    "## Step 6: Make a decision.\n",
    "\n",
    "Since the calculated test statistic is less than the critical value, you accept the null hypothesis.\n",
    "\n",
    "\n",
    "\n",
    "## Step 7: Draw a conclusion.\n",
    "\n",
    "\n",
    " Based on the sample data and the one-sample z-test at a significance level of alpha = 0.05, \n",
    " there is enough evidence to conclude that the average wait time for customers at the coffee shop is less than 5 minutes. \n",
    " The data supports the coffee shop's claim.\n",
    "\n",
    "### The conclusion is that there is sufficient evidence to support the coffee shop's claim that their average\n",
    "###   wait time for customers is less than 5 minutes."
   ]
  }
 ],
 "metadata": {
  "kernelspec": {
   "display_name": "Python 3 (ipykernel)",
   "language": "python",
   "name": "python3"
  },
  "language_info": {
   "codemirror_mode": {
    "name": "ipython",
    "version": 3
   },
   "file_extension": ".py",
   "mimetype": "text/x-python",
   "name": "python",
   "nbconvert_exporter": "python",
   "pygments_lexer": "ipython3",
   "version": "3.11.2"
  }
 },
 "nbformat": 4,
 "nbformat_minor": 5
}
